{
 "cells": [
  {
   "cell_type": "code",
   "execution_count": 63,
   "metadata": {},
   "outputs": [],
   "source": [
    "import re\n",
    "from wikimapper import WikiMapper\n",
    "import rdflib\n",
    "from string import capwords\n",
    "from titlecase import titlecase"
   ]
  },
  {
   "cell_type": "code",
   "execution_count": 2,
   "metadata": {},
   "outputs": [
    {
     "name": "stdout",
     "output_type": "stream",
     "text": [
      "Template created: [None, '<b> ', None, ' and ', None, ' </b>', None]\n",
      "Parsing other document: ['', 'yellow', 'blue', '']\n",
      "Filling the blanks: <b> red and orange </b>\n"
     ]
    }
   ],
   "source": [
    "from templater3 import Templater\n",
    "documents_to_learn = ['<b> spam and eggs </b>', '<b> ham and spam </b>',\n",
    "                          '<b> white and black </b>'] # list of documents\n",
    "template = Templater()\n",
    "for document in documents_to_learn:\n",
    "    template.learn(document)\n",
    "\n",
    "print('Template created:', template._template)\n",
    "\n",
    "\n",
    "document_to_parse = '<b> yellow and blue </b>'\n",
    "print('Parsing other document:', template.parse(document_to_parse))\n",
    "\n",
    "print('Filling the blanks:', template.join(['', 'red', 'orange', '']))"
   ]
  },
  {
   "cell_type": "code",
   "execution_count": 90,
   "metadata": {},
   "outputs": [],
   "source": [
    "from SPARQLWrapper import SPARQLWrapper, JSON\n",
    "sparql = SPARQLWrapper(\"https://query.wikidata.org/sparql\")\n",
    "\n",
    "def get_instance_of(entity: str) -> 'list[str]':\n",
    "   instance_of = []\n",
    "   #wdt:P31 -> is instance of\n",
    "   #classLabel is used to retrieve the actual labels instead of ambigiuous entities i.e. Q123\n",
    "\n",
    "\n",
    "   query = '''SELECT ?classLabel WHERE {{\n",
    "   wd:{entity} wdt:P31 ?class.\n",
    "      SERVICE wikibase:label {{\n",
    "      bd:serviceParam wikibase:language \"en\" .\n",
    "      }}\n",
    "   }}'''.format(entity=entity)\n",
    "   sparql.setQuery(query)\n",
    "\n",
    "   sparql.setReturnFormat(JSON)\n",
    "   results = sparql.query().convert()\n",
    "   for result in results['results']['bindings']:\n",
    "      instance_of.append(result['classLabel']['value'])\n",
    "   return instance_of\n",
    "\n",
    "def preprocess_entity(entity: str) -> str:\n",
    "   if entity.find(\"|\"):\n",
    "      entity = entity.split(\"|\")\n",
    "      entity = entity[0]\n",
    "\n",
    "   title_case_entity = titlecase(entity).replace(' ', '_')\n",
    "\n",
    "   joined = entity.replace(' ', '_')\n",
    "\n",
    "   capitalized_entity = entity.replace(' ', '_').capitalize()\n",
    "   \n",
    "   return title_case_entity, capitalized_entity, joined\n",
    "      \n"
   ]
  },
  {
   "cell_type": "code",
   "execution_count": 101,
   "metadata": {},
   "outputs": [
    {
     "name": "stdout",
     "output_type": "stream",
     "text": [
      "0.024498545398866943\n"
     ]
    }
   ],
   "source": [
    "lines = open('simplewiki-20211120-lists-1k.tsv').readlines()\n",
    "mapper = WikiMapper(\"index_enwiki-latest.db\")\n",
    "counter = 0\n",
    "entities_counter = 0\n",
    "for line in lines:\n",
    "    file, word_list = line.split('\\t')\n",
    "    word_list = word_list.split('\\\\n')\n",
    "    for word in word_list:\n",
    "        entities = re.findall(r'\\[\\[(.+?)\\]\\]',word)\n",
    "        for entity in entities:\n",
    "            entities_counter+=1\n",
    "            title_case, capitalized, joined = preprocess_entity(entity)\n",
    "            id = mapper.title_to_id(title_case)\n",
    "            if id is None:\n",
    "                id = mapper.title_to_id(capitalized)\n",
    "                if id is None:\n",
    "                    id = mapper.title_to_id(joined)\n",
    "                    if id is None:\n",
    "                        counter+=1\n",
    "                        #print(title_case, capitalized, joined)\n",
    "                    \n",
    "print(counter/entities_counter)\n",
    "\n",
    "        "
   ]
  },
  {
   "cell_type": "code",
   "execution_count": 87,
   "metadata": {},
   "outputs": [],
   "source": [
    "mapper.title_to_id(\"Amir_Khan_Mutaqqi\")"
   ]
  },
  {
   "cell_type": "code",
   "execution_count": 93,
   "metadata": {},
   "outputs": [
    {
     "data": {
      "text/plain": [
       "['Object_(task)',\n",
       " 'Goal_(management)',\n",
       " 'Short_term_goal',\n",
       " 'Short-term_goal',\n",
       " 'Long_term_goal',\n",
       " 'Long-term_goal',\n",
       " 'Objective_(goal)',\n",
       " 'Goal',\n",
       " 'Objective_(military)',\n",
       " 'Primary_objective',\n",
       " 'Subgoal',\n",
       " 'Personal_goals',\n",
       " 'Goal_management_in_organizations',\n",
       " 'Goal_displacement']"
      ]
     },
     "execution_count": 93,
     "metadata": {},
     "output_type": "execute_result"
    }
   ],
   "source": [
    "mapper.id_to_titles(\"Q4503831\")"
   ]
  },
  {
   "cell_type": "code",
   "execution_count": null,
   "metadata": {},
   "outputs": [],
   "source": []
  }
 ],
 "metadata": {
  "kernelspec": {
   "display_name": "Python 3 (ipykernel)",
   "language": "python",
   "name": "python3"
  },
  "language_info": {
   "codemirror_mode": {
    "name": "ipython",
    "version": 3
   },
   "file_extension": ".py",
   "mimetype": "text/x-python",
   "name": "python",
   "nbconvert_exporter": "python",
   "pygments_lexer": "ipython3",
   "version": "3.8.16"
  },
  "orig_nbformat": 4,
  "vscode": {
   "interpreter": {
    "hash": "0667539bd88fbb17fa840351f8b8f6f6dbf1c03d5822c77ae296ce6ff7faf2ea"
   }
  }
 },
 "nbformat": 4,
 "nbformat_minor": 2
}
