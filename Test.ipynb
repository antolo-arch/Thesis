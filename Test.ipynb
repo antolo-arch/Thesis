{
 "cells": [
  {
   "cell_type": "code",
   "execution_count": 12,
   "metadata": {},
   "outputs": [],
   "source": [
    "import re\n",
    "from wikimapper import WikiMapper\n",
    "import rdflib"
   ]
  },
  {
   "cell_type": "code",
   "execution_count": 8,
   "metadata": {},
   "outputs": [
    {
     "name": "stdout",
     "output_type": "stream",
     "text": [
      "Template created: [None, '<b> ', None, ' and ', None, ' </b>', None]\n",
      "Parsing other document: ['', 'yellow', 'blue', '']\n",
      "Filling the blanks: <b> red and orange </b>\n"
     ]
    }
   ],
   "source": [
    "from templater3 import Templater\n",
    "documents_to_learn = ['<b> spam and eggs </b>', '<b> ham and spam </b>',\n",
    "                          '<b> white and black </b>'] # list of documents\n",
    "template = Templater()\n",
    "for document in documents_to_learn:\n",
    "    template.learn(document)\n",
    "\n",
    "print('Template created:', template._template)\n",
    "\n",
    "\n",
    "document_to_parse = '<b> yellow and blue </b>'\n",
    "print('Parsing other document:', template.parse(document_to_parse))\n",
    "\n",
    "print('Filling the blanks:', template.join(['', 'red', 'orange', '']))"
   ]
  },
  {
   "cell_type": "code",
   "execution_count": 46,
   "metadata": {},
   "outputs": [],
   "source": [
    "from SPARQLWrapper import SPARQLWrapper, JSON\n",
    "sparql = SPARQLWrapper(\"https://query.wikidata.org/sparql\")\n",
    "\n",
    "def get_subclasses(entity: str) -> 'list[str]':\n",
    "   subclass_of = []\n",
    "\n",
    "   query = '''SELECT ?classLabel WHERE {{\n",
    "   wd:{entity} wdt:P279 ?class.\n",
    "      SERVICE wikibase:label {{\n",
    "      bd:serviceParam wikibase:language \"en\" .\n",
    "      }}\n",
    "   }}'''.format(entity=entity)\n",
    "   sparql.setQuery(query)\n",
    "\n",
    "   sparql.setReturnFormat(JSON)\n",
    "   results = sparql.query().convert()\n",
    "   for result in results['results']['bindings']:\n",
    "      subclass_of.append(result['classLabel']['value'])\n",
    "   return subclass_of\n"
   ]
  },
  {
   "cell_type": "code",
   "execution_count": 50,
   "metadata": {},
   "outputs": [
    {
     "name": "stdout",
     "output_type": "stream",
     "text": [
      "April\n",
      "April_1 Q2510\n",
      "April_Fools'_Day Q80949\n",
      "April_1 Q2510\n",
      "Iran Q794\n",
      "April_2 Q2511\n",
      "April_2 Q2511\n",
      "Thailand|Thai None\n",
      "wikt:conservation|Conservation None\n",
      "April_2 Q2511\n",
      "Autism Q1436063\n",
      "\n"
     ]
    }
   ],
   "source": [
    "lines = open('simplewiki-20211120-lists-1k.tsv').readlines()\n",
    "mapper = WikiMapper(\"index_enwiki-latest.db\")\n",
    "for line in lines[:1]:\n",
    "    file, word_list = line.split('\\t')\n",
    "    print(file)\n",
    "    word_list = word_list.split('\\\\n')\n",
    "    for word in word_list[0:5]:\n",
    "        entities = re.findall(r'\\[\\[(.+?)\\]\\]',word)\n",
    "        for entity in entities:\n",
    "                entity = entity.replace(' ', '_')\n",
    "                id = mapper.title_to_id(entity)\n",
    "                print(entity, id)\n",
    "                if id is not None:\n",
    "                    print(get_subclasses(id))\n",
    "\n",
    "         \n",
    "    print()"
   ]
  },
  {
   "cell_type": "code",
   "execution_count": 10,
   "metadata": {},
   "outputs": [
    {
     "data": {
      "text/plain": [
       "['March_15',\n",
       " '15_March',\n",
       " '15th_March',\n",
       " 'March_15th',\n",
       " 'Mar_15',\n",
       " '3/15',\n",
       " '15/3',\n",
       " '15th_of_March']"
      ]
     },
     "execution_count": 10,
     "metadata": {},
     "output_type": "execute_result"
    }
   ],
   "source": [
    "mapper.id_to_titles(\"Q2403\")"
   ]
  },
  {
   "cell_type": "code",
   "execution_count": null,
   "metadata": {},
   "outputs": [],
   "source": []
  }
 ],
 "metadata": {
  "kernelspec": {
   "display_name": "Python 3 (ipykernel)",
   "language": "python",
   "name": "python3"
  },
  "language_info": {
   "codemirror_mode": {
    "name": "ipython",
    "version": 3
   },
   "file_extension": ".py",
   "mimetype": "text/x-python",
   "name": "python",
   "nbconvert_exporter": "python",
   "pygments_lexer": "ipython3",
   "version": "3.8.16"
  },
  "orig_nbformat": 4,
  "vscode": {
   "interpreter": {
    "hash": "0667539bd88fbb17fa840351f8b8f6f6dbf1c03d5822c77ae296ce6ff7faf2ea"
   }
  }
 },
 "nbformat": 4,
 "nbformat_minor": 2
}
